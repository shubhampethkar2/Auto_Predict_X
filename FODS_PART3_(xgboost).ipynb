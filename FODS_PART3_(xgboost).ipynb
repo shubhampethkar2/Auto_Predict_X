{
  "nbformat": 4,
  "nbformat_minor": 0,
  "metadata": {
    "colab": {
      "provenance": [],
      "authorship_tag": "ABX9TyOd8u6SMYp6rxAILgZLUp43",
      "include_colab_link": true
    },
    "kernelspec": {
      "name": "python3",
      "display_name": "Python 3"
    },
    "language_info": {
      "name": "python"
    }
  },
  "cells": [
    {
      "cell_type": "markdown",
      "metadata": {
        "id": "view-in-github",
        "colab_type": "text"
      },
      "source": [
        "<a href=\"https://colab.research.google.com/github/Utkarsh-Rane43/FODS-PROJECT/blob/main/FODS_PART3_(xgboost).ipynb\" target=\"_parent\"><img src=\"https://colab.research.google.com/assets/colab-badge.svg\" alt=\"Open In Colab\"/></a>"
      ]
    },
    {
      "cell_type": "code",
      "source": [
        "import pandas as pd\n",
        "import numpy as np\n",
        "from xgboost import XGBRegressor\n",
        "from sklearn.model_selection import train_test_split\n",
        "from sklearn.metrics import mean_squared_error, r2_score\n",
        "from sklearn.preprocessing import LabelEncoder\n",
        "import matplotlib.pyplot as plt\n",
        "\n",
        "# Load the dataset\n",
        "df = pd.read_csv('cardekho_dataset.csv')\n",
        "\n",
        "# Remove unnecessary columns\n",
        "df = df.drop(['Unnamed: 0', 'car_name'], axis=1)\n",
        "\n",
        "# Identify categorical and numerical columns\n",
        "categorical_features = ['brand', 'model', 'seller_type', 'fuel_type', 'transmission_type']\n",
        "numerical_features = ['vehicle_age', 'km_driven', 'mileage', 'engine', 'max_power', 'seats']\n",
        "\n",
        "# Label encode categorical features\n",
        "le_dict = {}\n",
        "for cat_feature in categorical_features:\n",
        "    le = LabelEncoder()\n",
        "    df[cat_feature] = le.fit_transform(df[cat_feature].astype(str))\n",
        "    le_dict[cat_feature] = le\n",
        "\n",
        "# Prepare features and target\n",
        "X = df.drop('selling_price', axis=1)\n",
        "y = df['selling_price']\n",
        "\n",
        "# Split the data into training and testing sets\n",
        "X_train, X_test, y_train, y_test = train_test_split(X, y, test_size=0.2, random_state=42)\n",
        "\n",
        "# Initialize and train the XGBoost model\n",
        "xgb_model = XGBRegressor(random_state=42)\n",
        "xgb_model.fit(X_train, y_train)\n",
        "\n",
        "# Make predictions\n",
        "y_pred = xgb_model.predict(X_test)\n",
        "\n",
        "# Evaluate the model\n",
        "mse = mean_squared_error(y_test, y_pred)\n",
        "rmse = np.sqrt(mse)\n",
        "r2 = r2_score(y_test, y_pred)\n",
        "\n",
        "print(\"Model Performance:\")\n",
        "print(f\"Mean Squared Error: {mse:.2f}\")\n",
        "print(f\"Root Mean Squared Error: {rmse:.2f}\")\n",
        "print(f\"R-squared Score: {r2:.2f}\")\n",
        "\n",
        "# Feature importance\n",
        "feature_importance = xgb_model.feature_importances_\n",
        "feature_names = X.columns\n",
        "\n",
        "# Sort feature importances in descending order\n",
        "indices = np.argsort(feature_importance)[::-1]\n",
        "\n",
        "print(\"\\\n",
        "Top 10 Feature Importance:\")\n",
        "for f in range(10):\n",
        "    print(f\"{f + 1}. {feature_names[indices[f]]}: {feature_importance[indices[f]]:.4f}\")\n",
        "\n",
        "# Sample input data for prediction\n",
        "sample_data = pd.DataFrame({\n",
        "    'brand': ['Hyundai'],\n",
        "    'model': ['i20'],\n",
        "    'vehicle_age': [5],\n",
        "    'km_driven': [30000],\n",
        "    'seller_type': ['Individual'],\n",
        "    'fuel_type': ['Petrol'],\n",
        "    'transmission_type': ['Manual'],\n",
        "    'mileage': [18.0],\n",
        "    'engine': [1197],\n",
        "    'max_power': [83.0],\n",
        "    'seats': [5]\n",
        "})\n",
        "\n",
        "# Encode categorical features in sample data\n",
        "for cat_feature in categorical_features:\n",
        "    le = le_dict[cat_feature]\n",
        "    sample_data[cat_feature] = le.transform(sample_data[cat_feature].astype(str))\n",
        "\n",
        "# Predict the selling price using the trained model\n",
        "predicted_price = xgb_model.predict(sample_data)\n",
        "\n",
        "print(f\"\\\n",
        "Predicted Selling Price: {predicted_price[0]:.2f}\")\n",
        "\n",
        "xgb_model.save_model('xgb_model.cbm')\n"
      ],
      "metadata": {
        "colab": {
          "base_uri": "https://localhost:8080/"
        },
        "id": "y_AXivNNpkz_",
        "outputId": "a6a0cae9-91eb-4ab4-e00e-246574bde410"
      },
      "execution_count": 44,
      "outputs": [
        {
          "output_type": "stream",
          "name": "stdout",
          "text": [
            "Model Performance:\n",
            "Mean Squared Error: 50141289193.42\n",
            "Root Mean Squared Error: 223922.51\n",
            "R-squared Score: 0.93\n",
            "Top 10 Feature Importance:\n",
            "1. max_power: 0.6183\n",
            "2. engine: 0.1675\n",
            "3. vehicle_age: 0.0868\n",
            "4. km_driven: 0.0484\n",
            "5. model: 0.0213\n",
            "6. brand: 0.0146\n",
            "7. transmission_type: 0.0118\n",
            "8. fuel_type: 0.0116\n",
            "9. mileage: 0.0094\n",
            "10. seats: 0.0069\n",
            "Predicted Selling Price: 549963.31\n"
          ]
        },
        {
          "output_type": "stream",
          "name": "stderr",
          "text": [
            "/usr/local/lib/python3.10/dist-packages/xgboost/core.py:158: UserWarning: [11:37:36] WARNING: /workspace/src/c_api/c_api.cc:1374: Saving model in the UBJSON format as default.  You can use file extension: `json`, `ubj` or `deprecated` to choose between formats.\n",
            "  warnings.warn(smsg, UserWarning)\n"
          ]
        }
      ]
    }
  ]
}