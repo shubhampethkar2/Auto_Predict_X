{
  "nbformat": 4,
  "nbformat_minor": 0,
  "metadata": {
    "colab": {
      "provenance": [],
      "authorship_tag": "ABX9TyMcXai78AQV2iObDIySuajX",
      "include_colab_link": true
    },
    "kernelspec": {
      "name": "python3",
      "display_name": "Python 3"
    },
    "language_info": {
      "name": "python"
    }
  },
  "cells": [
    {
      "cell_type": "markdown",
      "metadata": {
        "id": "view-in-github",
        "colab_type": "text"
      },
      "source": [
        "<a href=\"https://colab.research.google.com/github/Utkarsh-Rane43/FODS-PROJECT/blob/main/FODS_PART3_(catboost).ipynb\" target=\"_parent\"><img src=\"https://colab.research.google.com/assets/colab-badge.svg\" alt=\"Open In Colab\"/></a>"
      ]
    },
    {
      "cell_type": "code",
      "source": [
        "import pandas as pd\n",
        "import numpy as np\n",
        "from catboost import CatBoostRegressor\n",
        "from sklearn.model_selection import train_test_split\n",
        "from sklearn.metrics import mean_squared_error, r2_score\n",
        "\n",
        "# Load the dataset\n",
        "df = pd.read_csv('/content/cardekho_dataset.csv')\n",
        "\n",
        "# Identify categorical and numerical columns\n",
        "categorical_features = ['brand', 'model', 'seller_type', 'fuel_type', 'transmission_type']\n",
        "numerical_features = ['vehicle_age', 'km_driven', 'mileage', 'engine', 'max_power', 'seats']\n",
        "\n",
        "# Ensure categorical columns are of type 'category'\n",
        "for cat_feature in categorical_features:\n",
        "    df[cat_feature] = df[cat_feature].astype('category')\n",
        "\n",
        "# Prepare features and target\n",
        "X = df.drop(['selling_price', 'car_name', 'Unnamed: 0'], axis=1)\n",
        "y = df['selling_price']\n",
        "\n",
        "# Split the data into training and testing sets\n",
        "X_train, X_test, y_train, y_test = train_test_split(X, y, test_size=0.2, random_state=42)\n",
        "\n",
        "# Initialize and train the CatBoost model with categorical features specified\n",
        "catboost_model = CatBoostRegressor(random_state=42, verbose=0)\n",
        "catboost_model.fit(X_train, y_train, cat_features=categorical_features)\n",
        "\n",
        "# Predict and evaluate the model\n",
        "y_pred = catboost_model.predict(X_test)\n",
        "\n",
        "# Calculate metrics\n",
        "mse = mean_squared_error(y_test, y_pred)\n",
        "rmse = np.sqrt(mse)\n",
        "r2 = r2_score(y_test, y_pred)\n",
        "\n",
        "# Print the evaluation metrics\n",
        "print(\"CatBoost Model Performance:\")\n",
        "print(\"MSE: \" + str(mse))\n",
        "print(\"RMSE: \" + str(rmse))\n",
        "print(\"R²: \" + str(r2))\n",
        "\n",
        "# Feature importance\n",
        "feature_importance = catboost_model.feature_importances_\n",
        "feature_names = X.columns\n",
        "\n",
        "# Sort feature importances in descending order\n",
        "indices = np.argsort(feature_importance)[::-1]\n",
        "\n",
        "print(\"\\nFeature Importance:\")\n",
        "for f in range(X.shape[1]):\n",
        "    print(\"%d. %s (%f)\" % (f + 1, feature_names[indices[f]], feature_importance[indices[f]]))\n",
        "\n",
        "catboost_model.save_model(\"catboost_model.cbm\")"
      ],
      "metadata": {
        "colab": {
          "base_uri": "https://localhost:8080/"
        },
        "id": "-66p0fKAczdu",
        "outputId": "17600aee-c76c-4802-bec9-25d0903262bc"
      },
      "execution_count": 37,
      "outputs": [
        {
          "output_type": "stream",
          "name": "stdout",
          "text": [
            "CatBoost Model Performance:\n",
            "MSE: 36846276540.035164\n",
            "RMSE: 191953.83960743053\n",
            "R²: 0.9510531776859485\n",
            "\n",
            "Feature Importance:\n",
            "1. max_power (47.916235)\n",
            "2. vehicle_age (23.280563)\n",
            "3. km_driven (6.212064)\n",
            "4. engine (6.053022)\n",
            "5. brand (5.994670)\n",
            "6. mileage (3.169681)\n",
            "7. model (2.643551)\n",
            "8. fuel_type (2.200474)\n",
            "9. transmission_type (1.587318)\n",
            "10. seats (0.594274)\n",
            "11. seller_type (0.348149)\n"
          ]
        }
      ]
    },
    {
      "cell_type": "code",
      "source": [
        "# Sample input data for prediction\n",
        "sample_data = pd.DataFrame({\n",
        "    'brand': ['Mahindra'],\n",
        "    'model': ['Bolero'],\n",
        "    'vehicle_age': [10],\n",
        "    'km_driven': [25000],\n",
        "    'seller_type': ['Individual'],\n",
        "    'fuel_type': ['Diesel'],\n",
        "    'transmission_type': ['Manual'],\n",
        "    'mileage': [13.6],\n",
        "    'engine': [2523],\n",
        "    'max_power': [63.0],\n",
        "    'seats': [7]\n",
        "})\n",
        "\n",
        "# Ensure categorical columns are of type 'category'\n",
        "for cat_feature in categorical_features:\n",
        "    sample_data[cat_feature] = sample_data[cat_feature].astype('category')\n",
        "\n",
        "# Predict the selling price using the trained model\n",
        "predicted_price = catboost_model.predict(sample_data)\n",
        "\n",
        "print(\"Predicted Selling Price: \" + str(predicted_price[0]))"
      ],
      "metadata": {
        "colab": {
          "base_uri": "https://localhost:8080/"
        },
        "id": "DRFF6wrQdDTj",
        "outputId": "e98183ec-4048-4af8-d485-63f6069e2b2d"
      },
      "execution_count": 35,
      "outputs": [
        {
          "output_type": "stream",
          "name": "stdout",
          "text": [
            "Predicted Selling Price: 382111.63076074515\n"
          ]
        }
      ]
    }
  ]
}